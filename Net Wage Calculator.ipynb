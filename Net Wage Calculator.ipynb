{
 "cells": [
  {
   "cell_type": "markdown",
   "metadata": {},
   "source": [
    "Funkcja do obliczania pensji netto na podstawie pensji brutto:"
   ]
  },
  {
   "cell_type": "code",
   "execution_count": 1,
   "metadata": {},
   "outputs": [],
   "source": [
    "from main import gross_to_net"
   ]
  },
  {
   "cell_type": "code",
   "execution_count": 3,
   "metadata": {},
   "outputs": [
    {
     "name": "stdout",
     "output_type": "stream",
     "text": [
      "Wynagrodzenie brutto: 1500.00\n",
      "\n",
      "Składki na ubezpieczenia społeczne:\n",
      "\tUbezpieczenie emerytalne: 146.40\n",
      "\tUbezpieczenie rentowe: 22.50\n",
      "\tUbezpieczenie chorobowe: 36.75\n",
      "Suma składek na ubezpieczenia społeczne: 205.65\n",
      "\n",
      "Składka na ubezpieczenie zdrowotne: 116.49\n"
     ]
    },
    {
     "data": {
      "text/plain": [
       "{'Pension Insurance Contribution': 146.4,\n",
       " 'Disability Pension Insurance Contribution': 22.5,\n",
       " 'Sickness Insurance Contribution': 36.75,\n",
       " 'Health Insurance Contribution': 116.49149999999999}"
      ]
     },
     "execution_count": 3,
     "metadata": {},
     "output_type": "execute_result"
    }
   ],
   "source": [
    "gross_to_net(1500, same_town = True)"
   ]
  },
  {
   "cell_type": "code",
   "execution_count": null,
   "metadata": {},
   "outputs": [],
   "source": []
  }
 ],
 "metadata": {
  "kernelspec": {
   "display_name": "Python 3",
   "language": "python",
   "name": "python3"
  },
  "language_info": {
   "codemirror_mode": {
    "name": "ipython",
    "version": 3
   },
   "file_extension": ".py",
   "mimetype": "text/x-python",
   "name": "python",
   "nbconvert_exporter": "python",
   "pygments_lexer": "ipython3",
   "version": "3.6.6"
  }
 },
 "nbformat": 4,
 "nbformat_minor": 2
}
