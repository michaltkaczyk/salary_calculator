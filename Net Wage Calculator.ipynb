{
 "cells": [
  {
   "cell_type": "markdown",
   "metadata": {},
   "source": [
    "Funkcja do obliczania pensji netto na podstawie pensji brutto:"
   ]
  },
  {
   "cell_type": "code",
   "execution_count": 1,
   "metadata": {},
   "outputs": [],
   "source": [
    "from main import gross_to_net"
   ]
  },
  {
   "cell_type": "code",
   "execution_count": 2,
   "metadata": {},
   "outputs": [
    {
     "name": "stdout",
     "output_type": "stream",
     "text": [
      "Wynagrodzenie brutto: 10000.00\n",
      "\n",
      "Składki na ubezpieczenia społeczne:\n",
      "\tUbezpieczenie emerytalne: 976.00\n",
      "\tUbezpieczenie rentowe: 150.00\n",
      "\tUbezpieczenie chorobowe: 245.00\n",
      "Suma składek na ubezpieczenia społeczne: 1371.00\n",
      "\n",
      "Składka na ubezpieczenia społeczne: 776.61\n"
     ]
    }
   ],
   "source": [
    "gross_to_net(10000)"
   ]
  },
  {
   "cell_type": "code",
   "execution_count": null,
   "metadata": {},
   "outputs": [],
   "source": []
  }
 ],
 "metadata": {
  "kernelspec": {
   "display_name": "Python 3",
   "language": "python",
   "name": "python3"
  },
  "language_info": {
   "codemirror_mode": {
    "name": "ipython",
    "version": 3
   },
   "file_extension": ".py",
   "mimetype": "text/x-python",
   "name": "python",
   "nbconvert_exporter": "python",
   "pygments_lexer": "ipython3",
   "version": "3.6.6"
  }
 },
 "nbformat": 4,
 "nbformat_minor": 2
}
